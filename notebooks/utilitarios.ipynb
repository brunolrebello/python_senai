{
 "cells": [
  {
   "cell_type": "code",
   "execution_count": 2,
   "id": "6611dfd2-6dcf-4ff7-a061-ae170c0cd68f",
   "metadata": {},
   "outputs": [
    {
     "data": {
      "text/plain": [
       "True"
      ]
     },
     "metadata": {},
     "output_type": "display_data"
    }
   ],
   "source": [
    "# ANY(Qualque um, qualquer coisa) Funciona como 'OR' ou em portugues 'OU'\n",
    "\n",
    "resposta = any([False,True,False,False,False])\n",
    "display(resposta)"
   ]
  },
  {
   "cell_type": "code",
   "execution_count": 4,
   "id": "c25ea80a-4bd7-4b8a-af4a-8f01fdacdf12",
   "metadata": {},
   "outputs": [
    {
     "data": {
      "text/plain": [
       "False"
      ]
     },
     "metadata": {},
     "output_type": "display_data"
    }
   ],
   "source": [
    "nomes = ['Bruno', '','','','',''] # retorna verdadeiro por ter um nome dentro da tupla, mas se estiver tudo vazio retorna falso\n",
    "resposta = any(nomes)\n",
    "display(resposta)"
   ]
  },
  {
   "cell_type": "code",
   "execution_count": 6,
   "id": "b1043ae0-a385-4ba2-8f2a-a4378501761d",
   "metadata": {},
   "outputs": [
    {
     "data": {
      "text/plain": [
       "True"
      ]
     },
     "metadata": {},
     "output_type": "display_data"
    }
   ],
   "source": [
    "numeros = [2, 10, 18, 24] # para saber se é par utiliza %2==0 e impar pode ser %2!=0 ou %==1\n",
    "resultado =  any(num %2==0 for num in numeros)\n",
    "display (resultado)"
   ]
  },
  {
   "cell_type": "code",
   "execution_count": 41,
   "id": "4d779a38-6775-46d3-bcab-c5de85e105e9",
   "metadata": {},
   "outputs": [
    {
     "name": "stdout",
     "output_type": "stream",
     "text": [
      "False\n"
     ]
    }
   ],
   "source": [
    "tabuleiro = [0,1,2,3,4,5,6,7,8]\n",
    "venceu = False\n",
    "combinacoes_vitoria = [\n",
    "    (0,1,2), (3,4,5), (6,7,8), #linas\n",
    "    (0,3,6), (1,4,7), (2,5,8),#colunas\n",
    "    (0,4,8), (2,4,6)      #diagonais\n",
    "]\n",
    "\n",
    "for a, b, c in combinacoes_vitoria:\n",
    "    if tabuleiro[a] == tabuleiro[b] == tabuleiro[c]:\n",
    "       venceu = True\n",
    " \n",
    "print(venceu)"
   ]
  },
  {
   "cell_type": "code",
   "execution_count": 42,
   "id": "0cc2fc1e-1b55-4f75-8643-deed4dc49d19",
   "metadata": {},
   "outputs": [
    {
     "name": "stdout",
     "output_type": "stream",
     "text": [
      "True\n"
     ]
    }
   ],
   "source": [
    "tabuleiro = [0,0,0,3,4,5,6,7,8]\n",
    "venceu = False\n",
    "combinacoes_vitoria = [\n",
    "    (0,1,2), (3,4,5), (6,7,8), #linas\n",
    "    (0,3,6), (1,4,7), (2,5,8),#colunas\n",
    "    (0,4,8), (2,4,6)      #diagonais\n",
    "]\n",
    "\n",
    "resultado = any(tabuleiro[a] == tabuleiro[b] == tabuleiro[c] for a, b, c in combinacoes_vitoria)\n",
    "print(resultado)"
   ]
  },
  {
   "cell_type": "code",
   "execution_count": 45,
   "id": "b6753b38-e890-4c47-ae42-77bbddfa632d",
   "metadata": {},
   "outputs": [
    {
     "name": "stdout",
     "output_type": "stream",
     "text": [
      "Luana\n"
     ]
    }
   ],
   "source": [
    "lista_nomes = [\n",
    "    ['Bruno','Lucas','Luan'],\n",
    "    ['Bruna', 'Luca','Luana'],\n",
    "    ['Joana','Jorge','Jó'],\n",
    "]\n",
    "print(lista_nomes[1][2]) # [1] é o indice e o [2] o valor"
   ]
  },
  {
   "cell_type": "code",
   "execution_count": 53,
   "id": "c52f50f5-fde4-45cc-a717-c48640bdc251",
   "metadata": {},
   "outputs": [
    {
     "name": "stdout",
     "output_type": "stream",
     "text": [
      "Bruno Lucas Luan\n",
      "Bruna Luca Luana\n",
      "Joana Jorge Jó\n"
     ]
    }
   ],
   "source": [
    "lista_nomes = [\n",
    "    ['Bruno','Lucas','Luan'],\n",
    "    ['Bruna', 'Luca','Luana'],\n",
    "    ['Joana','Jorge','Jó']\n",
    "]\n",
    "for nome1, nome2, nome3 in lista_nomes: # Mostra os nomes sem os colchetes\n",
    " print(nome1, nome2, nome3)"
   ]
  },
  {
   "cell_type": "code",
   "execution_count": 50,
   "id": "83253e38-0ff8-4af4-95d2-caae0d9bcdff",
   "metadata": {},
   "outputs": [
    {
     "name": "stdout",
     "output_type": "stream",
     "text": [
      "False\n"
     ]
    }
   ],
   "source": [
    "lista = [False, True, False]\n",
    "resposta = all(lista)\n",
    "print (resposta)"
   ]
  },
  {
   "cell_type": "code",
   "execution_count": 57,
   "id": "176f2901-d7ad-4984-aa7d-2bf764e7aca7",
   "metadata": {},
   "outputs": [
    {
     "name": "stdout",
     "output_type": "stream",
     "text": [
      "['Laranja', 'Morango', 'Uva']\n",
      "['Laranja', 'Morango', 'Uva']\n",
      "['Laranja', 'Kiwi', 'Uva']\n",
      "['Laranja', 'Kiwi', 'Uva']\n"
     ]
    }
   ],
   "source": [
    "lista_frutas = ['Laranja', 'Morango', 'Uva']\n",
    "copia_lista = lista_frutas\n",
    "print(lista_frutas)\n",
    "print(copia_lista)\n",
    "\n",
    "lista_frutas[1]='Kiwi'\n",
    "print(lista_frutas)\n",
    "print(copia_lista)"
   ]
  },
  {
   "cell_type": "code",
   "execution_count": 58,
   "id": "5d3d37f8-2381-46c7-a6b5-161dd21e82ce",
   "metadata": {},
   "outputs": [
    {
     "name": "stdout",
     "output_type": "stream",
     "text": [
      "['Laranja', 'Morango', 'Uva']\n",
      "['Laranja', 'Morango', 'Uva']\n",
      "['Laranja', 'Kiwi', 'Uva']\n",
      "['Laranja', 'Morango', 'Uva']\n"
     ]
    }
   ],
   "source": [
    "lista_frutas = ['Laranja', 'Morango', 'Uva']\n",
    "copia_lista = lista_frutas[:]# com este [:] pode manter a copia e mudar o original, caso aja mudança na lista(alteração, inclusão ou exclusão)\n",
    "print(lista_frutas)\n",
    "print(copia_lista)\n",
    "\n",
    "lista_frutas[1]='Kiwi'\n",
    "print(lista_frutas)\n",
    "print(copia_lista)"
   ]
  },
  {
   "cell_type": "code",
   "execution_count": 70,
   "id": "c70e8e32-96d5-4b71-8ef4-9a487c5c4c59",
   "metadata": {},
   "outputs": [
    {
     "name": "stdin",
     "output_type": "stream",
     "text": [
      "Informe o número:  10\n",
      "Informe o número:  0\n"
     ]
    },
    {
     "name": "stdout",
     "output_type": "stream",
     "text": [
      "<class 'ZeroDivisionError'>\n",
      "Estou depois do código\n"
     ]
    }
   ],
   "source": [
    "#tratamento de erro.\n",
    "\n",
    "try:\n",
    "    numero1 = int(input('Informe o número: '))\n",
    "    numero2 = int(input('Informe o número: '))   \n",
    "    print('O resultado é: ',numero1 / numero2)\n",
    "\n",
    "except ValueError:\n",
    "    print(ValueError)\n",
    "except ZeroDivisionError:\n",
    "    print(ZeroDivisionError)  \n",
    "print('Estou depois do código')# para mostrar que com essa exeção(except) o código continua rodando normalmente"
   ]
  },
  {
   "cell_type": "code",
   "execution_count": null,
   "id": "6fd3348b-f27e-435a-b7ba-8f12a1111c90",
   "metadata": {},
   "outputs": [],
   "source": []
  }
 ],
 "metadata": {
  "kernelspec": {
   "display_name": "Python 3 (ipykernel)",
   "language": "python",
   "name": "python3"
  },
  "language_info": {
   "codemirror_mode": {
    "name": "ipython",
    "version": 3
   },
   "file_extension": ".py",
   "mimetype": "text/x-python",
   "name": "python",
   "nbconvert_exporter": "python",
   "pygments_lexer": "ipython3",
   "version": "3.12.5"
  }
 },
 "nbformat": 4,
 "nbformat_minor": 5
}
