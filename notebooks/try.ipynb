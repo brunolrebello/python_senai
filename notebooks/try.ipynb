{
 "cells": [
  {
   "cell_type": "code",
   "execution_count": 5,
   "metadata": {},
   "outputs": [
    {
     "name": "stdout",
     "output_type": "stream",
     "text": [
      "A divisão é:  4.0\n"
     ]
    }
   ],
   "source": [
    "\n",
    "try:\n",
    " numero1 = int(input('Informe o numero: '))\n",
    " numero2 = int(input('Informe o numero: '))\n",
    "\n",
    " divisao = numero1/numero2\n",
    "\n",
    "except ZeroDivisionError:\n",
    " print(ZeroDivisionError, 'Digitou número errado')\n",
    "\n",
    "print('A divisão é: ',divisao)"
   ]
  },
  {
   "cell_type": "code",
   "execution_count": 21,
   "metadata": {},
   "outputs": [
    {
     "name": "stdout",
     "output_type": "stream",
     "text": [
      "invalid literal for int() with base 10: 'a'\n",
      "Número digitado está inválido\n",
      "A divisão é:  5.0\n"
     ]
    }
   ],
   "source": [
    "try:\n",
    "\n",
    " numero1 = int(input('Informe o numero: '))\n",
    " numero2 = int(input('Informe o numero: '))\n",
    "\n",
    " divisao = numero1/numero2\n",
    " \n",
    "except Exception as err:\n",
    "  \n",
    "    print(err)\n",
    "else: \n",
    "    print('Estou no else do bloco try')\n",
    "finally:\n",
    "    print('Número digitado está inválido')\n",
    "\n",
    "#import sys  \n",
    "print('A divisão é: ',divisao)"
   ]
  },
  {
   "cell_type": "code",
   "execution_count": 33,
   "metadata": {},
   "outputs": [
    {
     "name": "stdout",
     "output_type": "stream",
     "text": [
      "O resultado da divisão é:  5.0\n"
     ]
    }
   ],
   "source": [
    "class ErroGenerico (Exception): # na classe (class) não pode ser letra minuscula e não pode te o anderleine_.\n",
    " def _init_(self,mensagem):\n",
    "     super().__init__(mensagem)\n",
    "try:\n",
    "\n",
    " numero1 = int(input('Informe o numero: '))\n",
    " numero2 = int(input('Informe o numero: '))\n",
    "\n",
    " if numero2 <1:\n",
    "     raise ErroGenerico ('Digitou errado abestado')\n",
    " elif numero1 <1:     \n",
    "     raise ErroGenerico ('Digitou errado abestado')\n",
    " else:\n",
    "  divisao = numero1 / numero2\n",
    "except ErroGenerico as err:\n",
    "  print(err)\n",
    "print('O resultado da divisão é: ',divisao)  "
   ]
  }
 ],
 "metadata": {
  "interpreter": {
   "hash": "2f75e8a51b372faee74748d97e603e2879ce05b3cac698bb8eb76005aee4ca9e"
  },
  "kernelspec": {
   "display_name": "Python 3.12.5 64-bit ('venv': venv)",
   "language": "python",
   "name": "python3"
  },
  "language_info": {
   "codemirror_mode": {
    "name": "ipython",
    "version": 3
   },
   "file_extension": ".py",
   "mimetype": "text/x-python",
   "name": "python",
   "nbconvert_exporter": "python",
   "pygments_lexer": "ipython3",
   "version": "3.12.5"
  },
  "orig_nbformat": 4
 },
 "nbformat": 4,
 "nbformat_minor": 2
}
