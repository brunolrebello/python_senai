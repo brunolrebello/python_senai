{
 "cells": [
  {
   "cell_type": "code",
   "execution_count": null,
   "metadata": {},
   "outputs": [],
   "source": []
  },
  {
   "cell_type": "markdown",
   "metadata": {},
   "source": [
    "# Relembrando Variávies\n",
    "\n",
    "tipo:\n",
    "- int()\n",
    "\n",
    "- str()\n",
    "\n",
    "- float()\n",
    "\n",
    "- bool()\n",
    "\n",
    "- list()\n",
    "\n",
    "- tuple()\n",
    "\n",
    "- dict()"
   ]
  },
  {
   "cell_type": "code",
   "execution_count": 10,
   "metadata": {},
   "outputs": [],
   "source": [
    "numero=1\n",
    "nome='Bruno'\n",
    "numero_decimal = 10.9\n",
    "sera = True\n",
    "frutas=['limão', 'laranja', 'melão']\n",
    "carros=('gol', 'sandeiro', 'opala')\n",
    "pessoa={'nome':'Bruno', 'idade':30, 'altura':1.98 }\n",
    "\n"
   ]
  },
  {
   "cell_type": "markdown",
   "metadata": {},
   "source": [
    "## Condicionais\n",
    "- if\n",
    "- match case"
   ]
  },
  {
   "cell_type": "code",
   "execution_count": 14,
   "metadata": {},
   "outputs": [
    {
     "name": "stdout",
     "output_type": "stream",
     "text": [
      "Nome correto\n"
     ]
    }
   ],
   "source": [
    "if nome=='Bruno':\n",
    "    print('Nome correto')\n",
    "else:\n",
    "    print('Nome errado')"
   ]
  },
  {
   "cell_type": "code",
   "execution_count": 11,
   "metadata": {},
   "outputs": [
    {
     "name": "stdout",
     "output_type": "stream",
     "text": [
      "opção 1\n"
     ]
    }
   ],
   "source": [
    "match numero:\n",
    "    case 1:\n",
    "        print('opção 1')\n",
    "    case 2: \n",
    "        print('opção 2')\n",
    "    case 3:\n",
    "        print('opção 3')\n",
    "    case 4:\n",
    "        print('opção 4')\n",
    "    case _: \n",
    "        print('Opção invalida')        "
   ]
  },
  {
   "cell_type": "markdown",
   "metadata": {},
   "source": [
    "## Laços de Repetição\n",
    "- for\n",
    "- while"
   ]
  },
  {
   "cell_type": "code",
   "execution_count": 15,
   "metadata": {},
   "outputs": [
    {
     "name": "stdout",
     "output_type": "stream",
     "text": [
      "O contador é: 0\n",
      "O contador é: 1\n",
      "O contador é: 2\n",
      "O contador é: 3\n",
      "O contador é: 4\n",
      "O contador é: 5\n",
      "O contador é: 6\n",
      "O contador é: 7\n",
      "O contador é: 8\n",
      "O contador é: 9\n",
      "O contador é: 10\n"
     ]
    }
   ],
   "source": [
    "contador = 0\n",
    "while contador <=10:\n",
    "    print(f'O contador é: {contador}')\n",
    "    contador+= 1\n"
   ]
  },
  {
   "cell_type": "code",
   "execution_count": 17,
   "metadata": {},
   "outputs": [
    {
     "name": "stdout",
     "output_type": "stream",
     "text": [
      "O numero é: 0\n",
      "O numero é: 1\n",
      "O numero é: 2\n",
      "O numero é: 3\n",
      "O numero é: 4\n"
     ]
    }
   ],
   "source": [
    "for numero in range (5):\n",
    "    print(f'O numero é: {numero}')\n",
    "    "
   ]
  },
  {
   "cell_type": "markdown",
   "metadata": {},
   "source": [
    "## Metodos de String\n",
    "\n",
    "- upper\n",
    "- lower\n",
    "- capitalize\n",
    "- plit\n",
    "- strip\n",
    "- slice\n",
    "- replace\n",
    "- join"
   ]
  },
  {
   "cell_type": "code",
   "execution_count": 21,
   "metadata": {},
   "outputs": [
    {
     "name": "stdout",
     "output_type": "stream",
     "text": [
      "    bruno leonardo      \n",
      "    bruno leonardo      \n",
      "    BRUNO LEONARDO      \n",
      "Bruno Leonardo\n",
      "    Bruno Leonardo      \n",
      "['    Bruno Leonardo      ']\n",
      "Bruno-Marianna\n",
      "o Leo\n"
     ]
    }
   ],
   "source": [
    "aluno = '    Bruno Leonardo      '\n",
    "alunos = ['Bruno', 'Marianna']\n",
    "\n",
    "print(aluno.lower()) #Deixa minusculo\n",
    "print(aluno.capitalize()) # Deixa a primeira letra maiuscula\n",
    "print(aluno.upper()) # Deixa maiuscula\n",
    "print(aluno.strip()) # remove espaços\n",
    "print(aluno.replace('Nunes', 'Araújo')) # Substitui uma sequancia de caractere por outra\n",
    "print(aluno.split('-')) # Cria uma lista com as paçavras encontradas da string\n",
    "print('-'.join(alunos)) # Trasforma uma lista em uma string com o caracter desejado de separador\n",
    "print(aluno[8:13]) # corta a string no intervalo de caracteres fornecido"
   ]
  },
  {
   "cell_type": "markdown",
   "metadata": {},
   "source": [
    "# Metodo de Lista\n",
    "- append\n",
    "- extend\n",
    "- insert\n",
    "- remov\n",
    "- pop\n",
    "- index\n",
    "- del\n",
    "- sort\n",
    "- reverse"
   ]
  },
  {
   "cell_type": "code",
   "execution_count": 25,
   "metadata": {},
   "outputs": [
    {
     "name": "stdout",
     "output_type": "stream",
     "text": [
      "['notbook', 'smartphone', 'smart tv', 'fliperama']\n",
      "['notbook', 'smartphone', 'smart tv', 'fliperama', 'sofá', 'mesa', 'puff', 'cervejeira']\n",
      "['notbook', 'playstation 5', 'smartphone', 'smart tv', 'fliperama', 'sofá', 'mesa', 'puff', 'cervejeira']\n",
      "['notbook', 'playstation 5', 'smartphone', 'smart tv', 'fliperama', 'sofá', 'mesa', 'puff']\n",
      "['notbook', 'smartphone', 'smart tv', 'fliperama', 'sofá', 'mesa', 'puff']\n",
      "['notbook', 'smartphone', 'fliperama', 'sofá', 'mesa', 'puff']\n",
      "['puff', 'mesa', 'sofá', 'fliperama', 'smartphone', 'notbook']\n"
     ]
    }
   ],
   "source": [
    "produtos = ['notbook', 'smartphone', 'smart tv']\n",
    "\n",
    "produtos.append('fliperama') #adiciona um elemento ao final da lista\n",
    "print(produtos)\n",
    "produtos.extend(['sofá','mesa','puff', 'cervejeira']) #incrementa a lista com outra lista\n",
    "print(produtos)\n",
    "produtos.insert(1, 'playstation 5') #aciona um novo elemento em uma posicção especifica\n",
    "print(produtos)\n",
    "produtos.pop() #remove o último elemento da lista\n",
    "print(produtos)\n",
    "produtos.pop(1) # retorna o indice da primeira ocorrencia encontrada\n",
    "print(produtos)\n",
    "produtos.remove('smart tv')# organiza em ordem crescente a lista\n",
    "print(produtos)\n",
    "produtos.reverse() # inverte a lista de trás para frente\n",
    "print(produtos) \n",
    "# para adicionar novas linhas e escrever nas linhas ao mesmo tempo é segura o alt e seleciona as linhas e dar enter. Escreva normalmente e depois aperte duas vezes o esc."
   ]
  },
  {
   "cell_type": "markdown",
   "metadata": {},
   "source": [
    "## Funções\n",
    "  São objetos capazes de armazenar um bloco de código e depois podem ser reaproveitados em outro momento do código, somente chamando pelo seu nome.\n",
    "\n",
    "  - Função sem retorno\n",
    "  - Função com retorno\n",
    "  - Função com paramentros\n",
    "  - função sem paramentros\n",
    "  - Função lambda\n",
    "  - Função com multiplos parametros\n",
    "    - parametros posicionais\n",
    "    - paramentros nomeados\n",
    "  - Funções Recursivas\n"
   ]
  },
  {
   "cell_type": "code",
   "execution_count": 27,
   "metadata": {},
   "outputs": [],
   "source": [
    "def saudacao():# Função sem parametro\n",
    "    print('Hello Word!') # não aparece nada porque não foi chamada a função, e não tem retorno"
   ]
  },
  {
   "cell_type": "code",
   "execution_count": 28,
   "metadata": {},
   "outputs": [
    {
     "name": "stdout",
     "output_type": "stream",
     "text": [
      "Hello Word!\n"
     ]
    }
   ],
   "source": [
    "saudacao() # chamad aa função tem retorno"
   ]
  },
  {
   "cell_type": "code",
   "execution_count": 34,
   "metadata": {},
   "outputs": [],
   "source": [
    "# Função com retorno\n",
    "def somar():\n",
    "    soma = 25 + 50 # não aparece nada porque não foi chamada a função, e não tem retorno\n",
    "    return soma \n"
   ]
  },
  {
   "cell_type": "code",
   "execution_count": 35,
   "metadata": {},
   "outputs": [
    {
     "name": "stdout",
     "output_type": "stream",
     "text": [
      "75\n"
     ]
    }
   ],
   "source": [
    "print(somar())"
   ]
  },
  {
   "cell_type": "code",
   "execution_count": 38,
   "metadata": {},
   "outputs": [],
   "source": [
    "# Função com parametros\n",
    "def somar1(numero , numero1):\n",
    "    soma = numero + numero1\n",
    "    return soma"
   ]
  },
  {
   "cell_type": "code",
   "execution_count": 40,
   "metadata": {},
   "outputs": [
    {
     "data": {
      "text/plain": [
       "6094"
      ]
     },
     "execution_count": 40,
     "metadata": {},
     "output_type": "execute_result"
    }
   ],
   "source": [
    "somar1(1542, 4552)"
   ]
  },
  {
   "cell_type": "markdown",
   "metadata": {},
   "source": [
    "# Função Lambda \n",
    "Simplifica a função em uma linha o retorno da função fica subentendido\n"
   ]
  },
  {
   "cell_type": "code",
   "execution_count": 42,
   "metadata": {},
   "outputs": [],
   "source": [
    "soma_lambda = lambda numero1, numero2 : numero1 + numero2"
   ]
  },
  {
   "cell_type": "code",
   "execution_count": 43,
   "metadata": {},
   "outputs": [
    {
     "data": {
      "text/plain": [
       "611"
      ]
     },
     "execution_count": 43,
     "metadata": {},
     "output_type": "execute_result"
    }
   ],
   "source": [
    "soma_lambda(410, 201)"
   ]
  },
  {
   "cell_type": "code",
   "execution_count": 45,
   "metadata": {},
   "outputs": [],
   "source": [
    "# Função com multiplos parametros posicionais ( argumentos)\n",
    "\n",
    "def somar3 (*teste): \n",
    "\n",
    "    resultado = sum(teste)\n",
    "    return resultado\n"
   ]
  },
  {
   "cell_type": "code",
   "execution_count": 47,
   "metadata": {},
   "outputs": [
    {
     "data": {
      "text/plain": [
       "2304"
      ]
     },
     "execution_count": 47,
     "metadata": {},
     "output_type": "execute_result"
    }
   ],
   "source": [
    "somar3( 1, 20, 23, 36, 1000 , 5, 10, 200, 321, 6, 40 , 7, 635)# a quantidade de números entre paratese é 'infinito'.\n",
    "\n"
   ]
  },
  {
   "cell_type": "code",
   "execution_count": 48,
   "metadata": {},
   "outputs": [],
   "source": [
    "#Função multplo paramentros nomeados\n",
    "\n",
    "def produto(**parametros): # Com dois asteriscos vai passar o valor e os paramentros. O nome é parametro nomeado\n",
    "    produto1 = parametros\n",
    "    return produto1\n"
   ]
  },
  {
   "cell_type": "code",
   "execution_count": 49,
   "metadata": {},
   "outputs": [
    {
     "data": {
      "text/plain": [
       "{'nome': 'notebook', 'preco': 3000.0, 'fabricante': 'Samsung'}"
      ]
     },
     "execution_count": 49,
     "metadata": {},
     "output_type": "execute_result"
    }
   ],
   "source": [
    "produto(nome='notebook', preco = 3000.00, fabricante = 'Samsung')"
   ]
  },
  {
   "cell_type": "code",
   "execution_count": 53,
   "metadata": {},
   "outputs": [],
   "source": [
    "# Função fatorial convencional \n",
    "\n",
    "\n",
    "def calcula_fatorial(numero):\n",
    "    resultado = 1\n",
    "    for i in range(1, numero +1):\n",
    "        resultado *= i\n",
    "    return resultado    \n"
   ]
  },
  {
   "cell_type": "code",
   "execution_count": 55,
   "metadata": {},
   "outputs": [
    {
     "data": {
      "text/plain": [
       "720"
      ]
     },
     "execution_count": 55,
     "metadata": {},
     "output_type": "execute_result"
    }
   ],
   "source": [
    "calcula_fatorial(6)"
   ]
  },
  {
   "cell_type": "code",
   "execution_count": 56,
   "metadata": {},
   "outputs": [],
   "source": [
    "#Função recursivas é uma função que ao ser criada pode chamar ela mesma \n",
    "def calcular_fatorial2(numero):\n",
    "    if numero ==0 or numero ==1:\n",
    "        return 1\n",
    "    else:\n",
    "        return numero * calcular_fatorial2(numero-1)\n"
   ]
  },
  {
   "cell_type": "code",
   "execution_count": 57,
   "metadata": {},
   "outputs": [
    {
     "name": "stdout",
     "output_type": "stream",
     "text": [
      "120\n"
     ]
    }
   ],
   "source": [
    "print(calcular_fatorial2(5))"
   ]
  }
 ],
 "metadata": {
  "interpreter": {
   "hash": "023695796a0456db28915f727eb64cb942055160ea749933aa044f2070f70f3a"
  },
  "kernelspec": {
   "display_name": "Python 3.12.5 64-bit (windows store)",
   "language": "python",
   "name": "python3"
  },
  "language_info": {
   "codemirror_mode": {
    "name": "ipython",
    "version": 3
   },
   "file_extension": ".py",
   "mimetype": "text/x-python",
   "name": "python",
   "nbconvert_exporter": "python",
   "pygments_lexer": "ipython3",
   "version": "3.12.5"
  },
  "orig_nbformat": 4
 },
 "nbformat": 4,
 "nbformat_minor": 2
}
