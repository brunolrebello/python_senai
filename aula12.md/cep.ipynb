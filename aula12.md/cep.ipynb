{
 "cells": [
  {
   "cell_type": "code",
   "execution_count": 12,
   "metadata": {},
   "outputs": [
    {
     "name": "stdout",
     "output_type": "stream",
     "text": [
      "{'cep': '71070-640', 'logradouro': 'Área Especial Área Especial 4', 'complemento': '', 'unidade': '', 'bairro': 'Guará II', 'localidade': 'Brasília', 'uf': 'DF', 'ibge': '5300108', 'gia': '', 'ddd': '61', 'siafi': '9701'}\n"
     ]
    }
   ],
   "source": [
    "# \n",
    "import requests\n",
    "\n",
    "cep = 71070640\n",
    "\n",
    "link=f'https://viacep.com.br/ws/{cep}/json/' # O link chamado de endpoint\n",
    "\n",
    "requests.get(link)\n",
    "resposta = requests.get(link) # get serve para buscar alguma coisa. \n",
    "\n",
    "endereco = resposta.json()# json responde como dicionário\n",
    "\n",
    "print(endereco)"
   ]
  }
 ],
 "metadata": {
  "interpreter": {
   "hash": "023695796a0456db28915f727eb64cb942055160ea749933aa044f2070f70f3a"
  },
  "kernelspec": {
   "display_name": "Python 3.12.5 64-bit (windows store)",
   "language": "python",
   "name": "python3"
  },
  "language_info": {
   "codemirror_mode": {
    "name": "ipython",
    "version": 3
   },
   "file_extension": ".py",
   "mimetype": "text/x-python",
   "name": "python",
   "nbconvert_exporter": "python",
   "pygments_lexer": "ipython3",
   "version": "3.12.5"
  },
  "orig_nbformat": 4
 },
 "nbformat": 4,
 "nbformat_minor": 2
}
