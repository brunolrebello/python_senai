{
 "cells": [
  {
   "cell_type": "markdown",
   "metadata": {},
   "source": [
    "# Dicionário\n",
    "\n",
    "É um conjunto de chaves e valores que distinguem um objeto. \n",
    "Estas chaves nós chamamos de KEYS e seus valores de VALUES. É um tipo de variável python identificada pelas {}."
   ]
  },
  {
   "cell_type": "code",
   "execution_count": 48,
   "metadata": {},
   "outputs": [
    {
     "name": "stdout",
     "output_type": "stream",
     "text": [
      "{'nome': 'Bruno', 'idade': 30, 'cidade': 'João Pessoas'}\n"
     ]
    }
   ],
   "source": [
    "pessoa= {\n",
    "    'nome':'Bruno',\n",
    "    'idade': 30,\n",
    "    'cidade': 'João Pessoas'\n",
    "}\n",
    "\n",
    "print(pessoa)"
   ]
  },
  {
   "cell_type": "code",
   "execution_count": 49,
   "metadata": {},
   "outputs": [
    {
     "data": {
      "text/plain": [
       "dict_keys(['nome', 'idade', 'cidade'])"
      ]
     },
     "execution_count": 49,
     "metadata": {},
     "output_type": "execute_result"
    }
   ],
   "source": [
    "# Metodo KEYS(). Mostra todas as chaves que o dicionário possui.\n",
    "\n",
    "pessoa.keys()\n"
   ]
  },
  {
   "cell_type": "code",
   "execution_count": 50,
   "metadata": {},
   "outputs": [
    {
     "data": {
      "text/plain": [
       "dict_values(['Bruno', 30, 'João Pessoas'])"
      ]
     },
     "execution_count": 50,
     "metadata": {},
     "output_type": "execute_result"
    }
   ],
   "source": [
    "# Metodo VALUES para pegar valores\n",
    "pessoa.values()"
   ]
  },
  {
   "cell_type": "code",
   "execution_count": 51,
   "metadata": {},
   "outputs": [
    {
     "name": "stdout",
     "output_type": "stream",
     "text": [
      "dict_keys(['nome', 'idade', 'cidade'])\n",
      "dict_values(['Bruno', 30, 'João Pessoas'])\n"
     ]
    }
   ],
   "source": [
    "# POde ser dessa forma para saber as chaves e os valores\n",
    "\n",
    "print(pessoa.keys())\n",
    "\n",
    "print(pessoa.values())"
   ]
  },
  {
   "cell_type": "code",
   "execution_count": 52,
   "metadata": {},
   "outputs": [
    {
     "data": {
      "text/plain": [
       "(30, 'João Pessoas')"
      ]
     },
     "execution_count": 52,
     "metadata": {},
     "output_type": "execute_result"
    }
   ],
   "source": [
    "#Olhando valores especificos de um dicionário, mas deve estar entre colchetes\n",
    "pessoa['idade'] , pessoa['cidade']"
   ]
  },
  {
   "cell_type": "code",
   "execution_count": 53,
   "metadata": {},
   "outputs": [
    {
     "name": "stdout",
     "output_type": "stream",
     "text": [
      "{'nome': 'Bruno', 'idade': 30, 'cidade': 'João Pessoas'}\n",
      "{'nome': 'Bruno', 'idade': 30, 'cidade': 'Brasília'}\n"
     ]
    }
   ],
   "source": [
    "#Atribuindo um novo valor a uma chave. Acessa de forma individual e alteera de forma individual.\n",
    "print(pessoa)\n",
    "pessoa['cidade'] = 'Brasília'\n",
    "print(pessoa)\n"
   ]
  },
  {
   "cell_type": "code",
   "execution_count": 54,
   "metadata": {},
   "outputs": [
    {
     "name": "stdout",
     "output_type": "stream",
     "text": [
      "{'nome': 'Bruno', 'idade': 30, 'cidade': 'Brasília', 'e-mail': 'brunolrebello@teste.com.br'}\n"
     ]
    }
   ],
   "source": [
    "# Para adicionar uma chave precisa estar entre colchetes e depois o simbolo de =.\n",
    "pessoa['e-mail'] = 'brunolrebello@teste.com.br'\n",
    "print(pessoa)"
   ]
  },
  {
   "cell_type": "code",
   "execution_count": 55,
   "metadata": {},
   "outputs": [
    {
     "name": "stdout",
     "output_type": "stream",
     "text": [
      "{'nome': 'Bruno', 'e-mail': 'brunolrebello@teste.com.br'}\n"
     ]
    }
   ],
   "source": [
    "# para exclui  a chave do dicionário. Deve estar entre colchetes, mas deve estar especificado a chave, caso contrario excclui todo o dicionário. O Metodo pop também pode ser usado para excluir. \n",
    "# Se não for especificado este metodo exclui a última da chave, mas se especificar ele excluir o indicado. \n",
    "\n",
    "del pessoa['idade']\n",
    "\n",
    "pessoa.pop('cidade')\n",
    "print(pessoa)"
   ]
  },
  {
   "cell_type": "code",
   "execution_count": 56,
   "metadata": {},
   "outputs": [
    {
     "name": "stdout",
     "output_type": "stream",
     "text": [
      "[{'nome': 'Bruno', 'cidade': 'Guará'}, {'nome': 'Daniel', 'cidade': 'Recanto'}, {'nome': 'Marianna', 'cidade': 'Brasília'}, {'nome': 'Julianna', 'cidade': 'Taguatinga'}]\n",
      "0 {'nome': 'Bruno', 'cidade': 'Guará'}\n",
      "1 {'nome': 'Daniel', 'cidade': 'Recanto'}\n",
      "2 {'nome': 'Marianna', 'cidade': 'Brasília'}\n",
      "3 {'nome': 'Julianna', 'cidade': 'Taguatinga'}\n"
     ]
    }
   ],
   "source": [
    "alunos=[\n",
    "    {'nome': 'Bruno', 'cidade':'Guará'},\n",
    "    {'nome': 'Daniel', 'cidade':'Recanto'},\n",
    "    {'nome': 'Marianna', 'cidade':'Brasília'},\n",
    "    {'nome': 'Julianna', 'cidade':'Taguatinga'},\n",
    "]\n",
    "\n",
    "print(alunos)\n",
    "\n",
    "for indice, aluno in enumerate (alunos): # O enumerate para monstrar o número\n",
    "    print (indice, aluno) # O indice monstra a numeração de cada dicionario"
   ]
  },
  {
   "cell_type": "code",
   "execution_count": 57,
   "metadata": {},
   "outputs": [
    {
     "name": "stdout",
     "output_type": "stream",
     "text": [
      "{'nome': 'Marianna', 'cidade': 'Brasília'}\n",
      "Brasília\n"
     ]
    }
   ],
   "source": [
    "print(alunos[2])\n",
    "print(alunos[2]['cidade'])"
   ]
  },
  {
   "cell_type": "code",
   "execution_count": 65,
   "metadata": {},
   "outputs": [
    {
     "name": "stdout",
     "output_type": "stream",
     "text": [
      "{'nome': 'Marianna', 'cidade': 'Ceilandia'}\n",
      "Ceilandia\n"
     ]
    }
   ],
   "source": [
    "print(alunos[2])\n",
    "alunos[2]['cidade']= 'Ceilandia'\n",
    "print(alunos[2]['cidade'])"
   ]
  },
  {
   "cell_type": "code",
   "execution_count": 62,
   "metadata": {},
   "outputs": [
    {
     "name": "stdout",
     "output_type": "stream",
     "text": [
      "{'Bruno': {'matricula': 1234, 'escolaridade': 'superior'}, 'Marianna': {'matricula': 4560, 'escolaridade': 'superior'}, 'Julianna': {'matricula': 1012, 'escolaridade': 'fundamental'}, 'Guilherme': {'matricula': 1241, 'escolaridade': 'fundamental'}}\n"
     ]
    }
   ],
   "source": [
    "alunos_dicionario = {\n",
    "    'Bruno':{'matricula': 1234, 'escolaridade':'superior'},\n",
    "    'Marianna':{'matricula': 4560, 'escolaridade':'superior'},\n",
    "    'Julianna':{'matricula': 1012, 'escolaridade':'fundamental'},\n",
    "    'Guilherme':{'matricula': 1241, 'escolaridade':'fundamental'},\n",
    "}\n",
    "print(alunos_dicionario)"
   ]
  },
  {
   "cell_type": "code",
   "execution_count": 67,
   "metadata": {},
   "outputs": [
    {
     "name": "stdout",
     "output_type": "stream",
     "text": [
      "fundamental\n"
     ]
    }
   ],
   "source": [
    "print(alunos_dicionario['Guilherme']['escolaridade'])"
   ]
  }
 ],
 "metadata": {
  "interpreter": {
   "hash": "023695796a0456db28915f727eb64cb942055160ea749933aa044f2070f70f3a"
  },
  "kernelspec": {
   "display_name": "Python 3.12.5 64-bit (windows store)",
   "language": "python",
   "name": "python3"
  },
  "language_info": {
   "codemirror_mode": {
    "name": "ipython",
    "version": 3
   },
   "file_extension": ".py",
   "mimetype": "text/x-python",
   "name": "python",
   "nbconvert_exporter": "python",
   "pygments_lexer": "ipython3",
   "version": "3.12.5"
  },
  "orig_nbformat": 4
 },
 "nbformat": 4,
 "nbformat_minor": 2
}
